{
 "cells": [
  {
   "cell_type": "code",
   "execution_count": 2,
   "id": "ccff51ae",
   "metadata": {},
   "outputs": [
    {
     "ename": "NameError",
     "evalue": "name 'DataGenerator' is not defined",
     "output_type": "error",
     "traceback": [
      "\u001b[1;31m---------------------------------------------------------------------------\u001b[0m",
      "\u001b[1;31mNameError\u001b[0m                                 Traceback (most recent call last)",
      "\u001b[1;32m<ipython-input-2-4fc2ded665c5>\u001b[0m in \u001b[0;36m<module>\u001b[1;34m\u001b[0m\n\u001b[1;32m----> 1\u001b[1;33m \u001b[0mdg\u001b[0m \u001b[1;33m=\u001b[0m \u001b[0mDataGenerator\u001b[0m\u001b[1;33m(\u001b[0m\u001b[0mconfiguration\u001b[0m\u001b[1;33m)\u001b[0m\u001b[1;33m\u001b[0m\u001b[1;33m\u001b[0m\u001b[0m\n\u001b[0m\u001b[0;32m      2\u001b[0m \u001b[1;33m\u001b[0m\u001b[0m\n\u001b[0;32m      3\u001b[0m \u001b[1;31m# Let's see the results on a random testing image unseen by the model before.\u001b[0m\u001b[1;33m\u001b[0m\u001b[1;33m\u001b[0m\u001b[1;33m\u001b[0m\u001b[0m\n\u001b[0;32m      4\u001b[0m \u001b[1;31m# Run this cell multiple times to see different results\u001b[0m\u001b[1;33m\u001b[0m\u001b[1;33m\u001b[0m\u001b[1;33m\u001b[0m\u001b[0m\n\u001b[0;32m      5\u001b[0m \u001b[0mn_examples\u001b[0m \u001b[1;33m=\u001b[0m \u001b[1;36m3\u001b[0m\u001b[1;33m\u001b[0m\u001b[1;33m\u001b[0m\u001b[0m\n",
      "\u001b[1;31mNameError\u001b[0m: name 'DataGenerator' is not defined"
     ]
    }
   ],
   "source": [
    "dg = DataGenerator(configuration)\n",
    "\n",
    "# Let's see the results on a random testing image unseen by the model before.\n",
    "# Run this cell multiple times to see different results\n",
    "n_examples = 3\n",
    "input_imgs, true_output_imgs = dg.get_dataset_examples(n_examples, test_dataset=False)\n",
    "f, axarr = plt.subplots(n_examples, 3, figsize=(10, n_examples * 3))\n",
    "for i, img in enumerate(input_imgs):\n",
    "    generated_output = model.predict(img)\n",
    "    axarr[i, 0].imshow(mpimg.imread(input_imgs[i]))\n",
    "    axarr[i, 0].axis('off')\n",
    "    axarr[i, 1].imshow(mpimg.imread(true_output_imgs[i]))\n",
    "    axarr[i, 1].axis('off')\n",
    "    axarr[i, 2].imshow(generated_output)\n",
    "    axarr[i, 2].axis('off')\n",
    "\n",
    "axarr[0, 0].set_title('Input images')\n",
    "axarr[0, 1].set_title('Real outputs')\n",
    "axarr[0, 2].set_title('Generated outputs')\n",
    "print('Outputs generated on previously unseen data.')"
   ]
  },
  {
   "cell_type": "code",
   "execution_count": null,
   "id": "0e7d9bcb",
   "metadata": {},
   "outputs": [],
   "source": []
  }
 ],
 "metadata": {
  "kernelspec": {
   "display_name": "mask2face1",
   "language": "python",
   "name": "mask2face1"
  },
  "language_info": {
   "codemirror_mode": {
    "name": "ipython",
    "version": 3
   },
   "file_extension": ".py",
   "mimetype": "text/x-python",
   "name": "python",
   "nbconvert_exporter": "python",
   "pygments_lexer": "ipython3",
   "version": "3.6.13"
  }
 },
 "nbformat": 4,
 "nbformat_minor": 5
}
